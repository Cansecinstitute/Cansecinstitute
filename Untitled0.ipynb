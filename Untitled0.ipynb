{
  "nbformat": 4,
  "nbformat_minor": 0,
  "metadata": {
    "colab": {
      "name": "Untitled0.ipynb",
      "provenance": [],
      "collapsed_sections": [],
      "authorship_tag": "ABX9TyPVry6HL6sIf25m4k+yVsOw",
      "include_colab_link": true
    },
    "kernelspec": {
      "name": "python3",
      "display_name": "Python 3"
    },
    "language_info": {
      "name": "python"
    }
  },
  "cells": [
    {
      "cell_type": "markdown",
      "metadata": {
        "id": "view-in-github",
        "colab_type": "text"
      },
      "source": [
        "<a href=\"https://colab.research.google.com/github/Cansecinstitute/Cansecinstitute/blob/main/Untitled0.ipynb\" target=\"_parent\"><img src=\"https://colab.research.google.com/assets/colab-badge.svg\" alt=\"Open In Colab\"/></a>"
      ]
    },
    {
      "cell_type": "markdown",
      "source": [
        "INTROCUCTION TO PYTHON"
      ],
      "metadata": {
        "id": "2SBG7RvCPLwt"
      }
    },
    {
      "cell_type": "markdown",
      "source": [
        "This is the begining of your Python Journey, We are using Google Colab, because it provides a quick and simple way to get started without spending time installing, and the ability to share with others , teamates, fellow students, and build on code already established. Follow Along and hit the Play button to run your code....   \n"
      ],
      "metadata": {
        "id": "1v7-cPTiFuyl"
      }
    },
    {
      "cell_type": "markdown",
      "source": [
        "Variables\n",
        "\n",
        "The first thing were going to learn is that Data can be Stored in a variable. \n",
        "\n",
        "A value you need to store.\n",
        "\n",
        "To define a variable, simply use the equal sign =\n",
        "\n",
        "Its convention in the Programming World to start by defining the variable Hello World in the language your using. "
      ],
      "metadata": {
        "id": "Z88UmoyOGnQY"
      }
    },
    {
      "cell_type": "markdown",
      "source": [
        ""
      ],
      "metadata": {
        "id": "iAmZuKJgPK3Z"
      }
    },
    {
      "cell_type": "markdown",
      "source": [
        "In the python language the number sign is used when you want to make notes, and it cancels the code, if you need to , there is an example on top of every question were asking you to solve. "
      ],
      "metadata": {
        "id": "tKCe6hsoHiOZ"
      }
    },
    {
      "cell_type": "code",
      "source": [
        " Name = \"Christopher\"\n",
        "\n",
        " ## Now its Your Turn, Declare a string variable, with the name your storing in the front placing hello world, in the brackets. \n",
        " ## Note that for a S\n"
      ],
      "metadata": {
        "id": "buJqC3wlH32A"
      },
      "execution_count": null,
      "outputs": []
    },
    {
      "cell_type": "code",
      "source": [
        "##Place Value below\n",
        "\n",
        "name = \"Place Variable Here\""
      ],
      "metadata": {
        "id": "mEp3PZn-JQhY"
      },
      "execution_count": null,
      "outputs": []
    },
    {
      "cell_type": "markdown",
      "source": [
        "Another advantage of using Google Colab is that it gives us the opportunity to build high level programs by looking at others code and dragging and dropping what works instead of rebuilding the wheel every time you need a function. We will discuss addvantages/disadvantages of different version control systems, but for now lets start with the most popular, GITHUB https://en.wikipedia.org/wiki/GitHub , lets start by creating an account and coming back to the lesson. "
      ],
      "metadata": {
        "id": "LS73UAI7PfHr"
      }
    },
    {
      "cell_type": "markdown",
      "source": [
        "FUNCTIONS"
      ],
      "metadata": {
        "id": "JbPssa1nRBFU"
      }
    },
    {
      "cell_type": "markdown",
      "source": [
        "We call functions by putting parentheses after their name, and putting the inputs (or arguments) to the function in those parentheses."
      ],
      "metadata": {
        "id": "r5gb8lNmRKzL"
      }
    },
    {
      "cell_type": "markdown",
      "source": [
        "The Next thing we will learn is how to print something out to the screen, it seems simple but we simply code Print('And Put Our Variable Here')\n",
        "\n",
        "Lets Try it Below, Click "
      ],
      "metadata": {
        "id": "ehG03LSYJXiH"
      }
    },
    {
      "cell_type": "code",
      "source": [
        "print('Place a variable in the quotes here')\n",
        "#Press the Play at the right\n"
      ],
      "metadata": {
        "id": "_isVK92TL3JX"
      },
      "execution_count": null,
      "outputs": []
    },
    {
      "cell_type": "markdown",
      "source": [
        "**INTEGERS**"
      ],
      "metadata": {
        "id": "wlkdSU7sMIKt"
      }
    },
    {
      "cell_type": "markdown",
      "source": [
        "Integers, are positive or negative non decimal values and are assigned without quotes.  \n",
        "Interest = 2\n",
        "\n",
        "\n",
        "New Function,  our next function is going to be type()\n",
        "this function returns the type of variable it is.  our next assignment declare a variable named interest. and give it a value of 2, then print the type using the type function\n",
        "\n",
        "interest=\"2\"\n",
        "type(interest)\n",
        "\n",
        "Now assign a new value for interest, give it a value of 2.5.\n",
        "What type is it??\n",
        "\n",
        "Interest=2.5\n",
        "type(Interest)\n",
        "\n",
        "As we see, the variable type is float..    A float is a number that extends to fractions..   \n",
        "One more variable type that we will use often is Boolean, which is just computer jargen for True or False, example\n",
        "AmIHavingFun = True  ,,    IsPythonAwesome = True ,,   1=2 = False,, notice the case is Capitalized...  Let us end this Chapter by assigning a variable \n",
        "\n",
        "\n",
        "\n",
        "AmIHavingFun='True'\n",
        "print(AmIHavingFun)\n",
        "type(AmIHavingFun)"
      ],
      "metadata": {
        "id": "_5afYVPbMz-2"
      }
    },
    {
      "cell_type": "code",
      "source": [
        "Integers are positive or negative non decimal values and are assigned without quotes.\n",
        "\n",
        "Interest = 2\n",
        "\n",
        "New Function, our next function is type() \n",
        "\n",
        "this function returns the type of variable it is. our next assignment declare a \n",
        "variable named interest. and give it a value of 2, then print the type using the \n",
        "type function\n",
        "\n",
        "interest=\"2\" type(interest)\n",
        "\n",
        "\n",
        "\n",
        "Now assign a new value for interest, give it a value of 2.5. What type is it??\n",
        "\n",
        "Interest=2.5 \n",
        "type(Interest)\n",
        "\n",
        "As we see, the variable type is float.. A float is a number that extends to fractions..\n",
        "One more variable type that we will use often is Boolean, which is just computer jargen for True or False, example AmIHavingFun = True ,, IsPythonAwesome = True ,, 1=2 = False,, notice the case is Capitalized... Let us end this Chapter by assigning a variable\n",
        "\n",
        "AmIHavingFun='True' print(AmIHavingFun) type(AmIHavingFun)\n"
      ],
      "metadata": {
        "id": "TE6MnCgKSA_c"
      },
      "execution_count": null,
      "outputs": []
    },
    {
      "cell_type": "markdown",
      "source": [
        "Now to something EXCITING.....\n",
        "\n",
        "Write a piece of code to download something from the internet,,    the cansec homepage, for simplicity sake ,,,  and displayh it to the screen.....\n",
        "\n",
        "To start,,,     we need  to become familiar with a function called Requests, which we will use alot, to download stuff from the internet....     to import requests we simply type import requests...\n",
        "\n",
        "I also think the habit of going over a module or concept like requests, which is one that will be used repeatedly, from a few different sources, is an important habit for learning,,,   a good quick requests cheatsheet is https://www.twilio.com/blog/5-ways-http-requests-python\n",
        "\n",
        "\n",
        "\n",
        "\n"
      ],
      "metadata": {
        "id": "jLwo2c9vUTVa"
      }
    },
    {
      "cell_type": "code",
      "source": [
        "import requests\n",
        "r=requests.get(\"https://cansecinstituteofinformationtechnology.ca\")\n",
        "print(r)"
      ],
      "metadata": {
        "colab": {
          "base_uri": "https://localhost:8080/"
        },
        "id": "mOiMkvfFZBNF",
        "outputId": "aeaf357b-8441-4f62-e9cf-eaf394af05ec"
      },
      "execution_count": 8,
      "outputs": [
        {
          "output_type": "stream",
          "name": "stdout",
          "text": [
            "<Response [200]>\n"
          ]
        }
      ]
    },
    {
      "cell_type": "markdown",
      "source": [
        "So this gives us the basic website,,,,  you see the return code of the website, not neccesarily what you see in the browser..,.for the html you would type \n",
        "print(r.text),,   which brings us to Webscraping and parsing.       "
      ],
      "metadata": {
        "id": "HIzlqjhEa_1N"
      }
    }
  ]
}